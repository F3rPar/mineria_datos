{
  "nbformat": 4,
  "nbformat_minor": 0,
  "metadata": {
    "kernelspec": {
      "display_name": "Python 3",
      "language": "python",
      "name": "python3"
    },
    "language_info": {
      "codemirror_mode": {
        "name": "ipython",
        "version": 3
      },
      "file_extension": ".py",
      "mimetype": "text/x-python",
      "name": "python",
      "nbconvert_exporter": "python",
      "pygments_lexer": "ipython3",
      "version": "3.6.9"
    },
    "colab": {
      "name": "1.-analisis_exploratorio.ipynb",
      "provenance": []
    }
  },
  "cells": [
    {
      "cell_type": "markdown",
      "metadata": {
        "id": "OtDafi0PnBhn",
        "colab_type": "text"
      },
      "source": [
        "# Analisis Exploratorio\n",
        "\n",
        "El analisis exploratorio se usa para i obtener un resumen que describa los datos. Generalmente se usa como etapa previa para otros tipos de analisis y generalmente se usan histogramas y graficos que muestren la relacion entre las distintas variables. Al mismo tiempo, nos interesa  "
      ]
    },
    {
      "cell_type": "code",
      "metadata": {
        "id": "95hIj-31nBho",
        "colab_type": "code",
        "colab": {
          "base_uri": "https://localhost:8080/",
          "height": 35
        },
        "outputId": "b4572c3f-e122-4d31-b251-d8baa9259650"
      },
      "source": [
        "import pandas as pd\n",
        "pd.__version__"
      ],
      "execution_count": 1,
      "outputs": [
        {
          "output_type": "execute_result",
          "data": {
            "application/vnd.google.colaboratory.intrinsic": {
              "type": "string"
            },
            "text/plain": [
              "'1.0.5'"
            ]
          },
          "metadata": {
            "tags": []
          },
          "execution_count": 1
        }
      ]
    },
    {
      "cell_type": "code",
      "metadata": {
        "id": "p40ntim_nBhu",
        "colab_type": "code",
        "colab": {}
      },
      "source": [
        "data = {'year': \n",
        "        [2010 , 2011 , 2012 ,\n",
        "        2010 , 2011 , 2012 ,\n",
        "        2010 , 2011 , 2012],\n",
        "        'team': [\n",
        "        'Rangers','Rangers',\n",
        "        'Rangers','Colo Colo',\n",
        "        'Colo Colo','Colo Colo',\n",
        "        'Universidad de Chile','Universidad de Chile',\n",
        "        'Universidad de Chile'],\n",
        "        'wins':[30 , 28 , 32 , 29 , 32 , 26 , 21 , 17 , 19] ,\n",
        "        'draws':[6 , 7 , 4 , 5 , 4 , 7 , 8 , 10 , 8] ,\n",
        "        'losses': [2 , 3 , 2 , 4 , 2 , 5 , 9 , 11 , 11]\n",
        "        }\n",
        "\n",
        "df = pd.DataFrame(data ,columns=['year','team','wins','draws','losses'])"
      ],
      "execution_count": null,
      "outputs": []
    },
    {
      "cell_type": "code",
      "metadata": {
        "id": "g-hM_atBnBhy",
        "colab_type": "code",
        "colab": {},
        "outputId": "1d9b5d30-7d26-4b20-bc49-21dbfb3684c9"
      },
      "source": [
        "df.head()"
      ],
      "execution_count": null,
      "outputs": [
        {
          "output_type": "execute_result",
          "data": {
            "text/html": [
              "<div>\n",
              "<style scoped>\n",
              "    .dataframe tbody tr th:only-of-type {\n",
              "        vertical-align: middle;\n",
              "    }\n",
              "\n",
              "    .dataframe tbody tr th {\n",
              "        vertical-align: top;\n",
              "    }\n",
              "\n",
              "    .dataframe thead th {\n",
              "        text-align: right;\n",
              "    }\n",
              "</style>\n",
              "<table border=\"1\" class=\"dataframe\">\n",
              "  <thead>\n",
              "    <tr style=\"text-align: right;\">\n",
              "      <th></th>\n",
              "      <th>year</th>\n",
              "      <th>team</th>\n",
              "      <th>wins</th>\n",
              "      <th>draws</th>\n",
              "      <th>losses</th>\n",
              "    </tr>\n",
              "  </thead>\n",
              "  <tbody>\n",
              "    <tr>\n",
              "      <th>0</th>\n",
              "      <td>2010</td>\n",
              "      <td>Rangers</td>\n",
              "      <td>30</td>\n",
              "      <td>6</td>\n",
              "      <td>2</td>\n",
              "    </tr>\n",
              "    <tr>\n",
              "      <th>1</th>\n",
              "      <td>2011</td>\n",
              "      <td>Rangers</td>\n",
              "      <td>28</td>\n",
              "      <td>7</td>\n",
              "      <td>3</td>\n",
              "    </tr>\n",
              "    <tr>\n",
              "      <th>2</th>\n",
              "      <td>2012</td>\n",
              "      <td>Rangers</td>\n",
              "      <td>32</td>\n",
              "      <td>4</td>\n",
              "      <td>2</td>\n",
              "    </tr>\n",
              "    <tr>\n",
              "      <th>3</th>\n",
              "      <td>2010</td>\n",
              "      <td>Colo Colo</td>\n",
              "      <td>29</td>\n",
              "      <td>5</td>\n",
              "      <td>4</td>\n",
              "    </tr>\n",
              "    <tr>\n",
              "      <th>4</th>\n",
              "      <td>2011</td>\n",
              "      <td>Colo Colo</td>\n",
              "      <td>32</td>\n",
              "      <td>4</td>\n",
              "      <td>2</td>\n",
              "    </tr>\n",
              "  </tbody>\n",
              "</table>\n",
              "</div>"
            ],
            "text/plain": [
              "   year       team  wins  draws  losses\n",
              "0  2010    Rangers    30      6       2\n",
              "1  2011    Rangers    28      7       3\n",
              "2  2012    Rangers    32      4       2\n",
              "3  2010  Colo Colo    29      5       4\n",
              "4  2011  Colo Colo    32      4       2"
            ]
          },
          "metadata": {
            "tags": []
          },
          "execution_count": 3
        }
      ]
    },
    {
      "cell_type": "code",
      "metadata": {
        "id": "vWw7Q18BnBh4",
        "colab_type": "code",
        "colab": {},
        "outputId": "ce01207e-8819-4ca4-d0b6-1b05bb492d01"
      },
      "source": [
        "df.dtypes"
      ],
      "execution_count": null,
      "outputs": [
        {
          "output_type": "execute_result",
          "data": {
            "text/plain": [
              "year       int64\n",
              "team      object\n",
              "wins       int64\n",
              "draws      int64\n",
              "losses     int64\n",
              "dtype: object"
            ]
          },
          "metadata": {
            "tags": []
          },
          "execution_count": 4
        }
      ]
    },
    {
      "cell_type": "code",
      "metadata": {
        "id": "IGzN8aQAnBh8",
        "colab_type": "code",
        "colab": {}
      },
      "source": [
        "df['team'] = df['team'].astype('category')\n",
        "df['year']=pd.to_datetime(df['year'], format='%Y')"
      ],
      "execution_count": null,
      "outputs": []
    },
    {
      "cell_type": "code",
      "metadata": {
        "id": "yQY1AZQ0nBiA",
        "colab_type": "code",
        "colab": {},
        "outputId": "901cbca8-8f3b-44fe-a1f8-d9c7090de288"
      },
      "source": [
        "df.dtypes"
      ],
      "execution_count": null,
      "outputs": [
        {
          "output_type": "execute_result",
          "data": {
            "text/plain": [
              "year      datetime64[ns]\n",
              "team            category\n",
              "wins               int64\n",
              "draws              int64\n",
              "losses             int64\n",
              "dtype: object"
            ]
          },
          "metadata": {
            "tags": []
          },
          "execution_count": 6
        }
      ]
    },
    {
      "cell_type": "markdown",
      "metadata": {
        "id": "DRthIb2mnBiF",
        "colab_type": "text"
      },
      "source": [
        "La tabla ``df`` se encuentra indexada mediante un objeto del tipo ``pd.Index`` que nos sirve para acceder a los registros individuales."
      ]
    },
    {
      "cell_type": "code",
      "metadata": {
        "id": "HaHFcuijnBiG",
        "colab_type": "code",
        "colab": {},
        "outputId": "d7f2c83b-4563-42b9-ec12-39df0a3e543f"
      },
      "source": [
        "print(df.index)"
      ],
      "execution_count": null,
      "outputs": [
        {
          "output_type": "stream",
          "text": [
            "RangeIndex(start=0, stop=9, step=1)\n"
          ],
          "name": "stdout"
        }
      ]
    },
    {
      "cell_type": "code",
      "metadata": {
        "id": "75QdUV2MnBiK",
        "colab_type": "code",
        "colab": {},
        "outputId": "2c570b82-ccf7-421f-cedf-73a2daafd25a"
      },
      "source": [
        "df[df.index==0]"
      ],
      "execution_count": null,
      "outputs": [
        {
          "output_type": "execute_result",
          "data": {
            "text/html": [
              "<div>\n",
              "<style scoped>\n",
              "    .dataframe tbody tr th:only-of-type {\n",
              "        vertical-align: middle;\n",
              "    }\n",
              "\n",
              "    .dataframe tbody tr th {\n",
              "        vertical-align: top;\n",
              "    }\n",
              "\n",
              "    .dataframe thead th {\n",
              "        text-align: right;\n",
              "    }\n",
              "</style>\n",
              "<table border=\"1\" class=\"dataframe\">\n",
              "  <thead>\n",
              "    <tr style=\"text-align: right;\">\n",
              "      <th></th>\n",
              "      <th>year</th>\n",
              "      <th>team</th>\n",
              "      <th>wins</th>\n",
              "      <th>draws</th>\n",
              "      <th>losses</th>\n",
              "    </tr>\n",
              "  </thead>\n",
              "  <tbody>\n",
              "    <tr>\n",
              "      <th>0</th>\n",
              "      <td>2010-01-01</td>\n",
              "      <td>Rangers</td>\n",
              "      <td>30</td>\n",
              "      <td>6</td>\n",
              "      <td>2</td>\n",
              "    </tr>\n",
              "  </tbody>\n",
              "</table>\n",
              "</div>"
            ],
            "text/plain": [
              "        year     team  wins  draws  losses\n",
              "0 2010-01-01  Rangers    30      6       2"
            ]
          },
          "metadata": {
            "tags": []
          },
          "execution_count": 108
        }
      ]
    },
    {
      "cell_type": "code",
      "metadata": {
        "id": "9MUKOclRnBiO",
        "colab_type": "code",
        "colab": {},
        "outputId": "bfa0c677-86b1-435b-cb2b-ab5713296013"
      },
      "source": [
        "df.iloc[0]"
      ],
      "execution_count": null,
      "outputs": [
        {
          "output_type": "execute_result",
          "data": {
            "text/plain": [
              "year      2010-01-01 00:00:00\n",
              "team                  Rangers\n",
              "wins                       30\n",
              "draws                       6\n",
              "losses                      2\n",
              "Name: 0, dtype: object"
            ]
          },
          "metadata": {
            "tags": []
          },
          "execution_count": 109
        }
      ]
    },
    {
      "cell_type": "code",
      "metadata": {
        "id": "10O5uQRanBiS",
        "colab_type": "code",
        "colab": {},
        "outputId": "c9150ec1-ca98-444f-a2a9-5b73795a1189"
      },
      "source": [
        "df[0:2]"
      ],
      "execution_count": null,
      "outputs": [
        {
          "output_type": "execute_result",
          "data": {
            "text/html": [
              "<div>\n",
              "<style scoped>\n",
              "    .dataframe tbody tr th:only-of-type {\n",
              "        vertical-align: middle;\n",
              "    }\n",
              "\n",
              "    .dataframe tbody tr th {\n",
              "        vertical-align: top;\n",
              "    }\n",
              "\n",
              "    .dataframe thead th {\n",
              "        text-align: right;\n",
              "    }\n",
              "</style>\n",
              "<table border=\"1\" class=\"dataframe\">\n",
              "  <thead>\n",
              "    <tr style=\"text-align: right;\">\n",
              "      <th></th>\n",
              "      <th>year</th>\n",
              "      <th>team</th>\n",
              "      <th>wins</th>\n",
              "      <th>draws</th>\n",
              "      <th>losses</th>\n",
              "    </tr>\n",
              "  </thead>\n",
              "  <tbody>\n",
              "    <tr>\n",
              "      <th>0</th>\n",
              "      <td>2010-01-01</td>\n",
              "      <td>Rangers</td>\n",
              "      <td>30</td>\n",
              "      <td>6</td>\n",
              "      <td>2</td>\n",
              "    </tr>\n",
              "    <tr>\n",
              "      <th>1</th>\n",
              "      <td>2011-01-01</td>\n",
              "      <td>Rangers</td>\n",
              "      <td>28</td>\n",
              "      <td>7</td>\n",
              "      <td>3</td>\n",
              "    </tr>\n",
              "  </tbody>\n",
              "</table>\n",
              "</div>"
            ],
            "text/plain": [
              "        year     team  wins  draws  losses\n",
              "0 2010-01-01  Rangers    30      6       2\n",
              "1 2011-01-01  Rangers    28      7       3"
            ]
          },
          "metadata": {
            "tags": []
          },
          "execution_count": 110
        }
      ]
    },
    {
      "cell_type": "code",
      "metadata": {
        "id": "xbm91XfknBiW",
        "colab_type": "code",
        "colab": {}
      },
      "source": [
        "sum_data=df.groupby('team').sum()"
      ],
      "execution_count": null,
      "outputs": []
    },
    {
      "cell_type": "code",
      "metadata": {
        "id": "HqpyGM3wnBiZ",
        "colab_type": "code",
        "colab": {},
        "outputId": "a259b294-b280-45a6-dec4-406837c15834"
      },
      "source": [
        "print(sum_data)"
      ],
      "execution_count": null,
      "outputs": [
        {
          "output_type": "stream",
          "text": [
            "                      wins  draws  losses\n",
            "team                                     \n",
            "Colo Colo               87     16      11\n",
            "Rangers                 90     17       7\n",
            "Universidad de Chile    57     26      31\n"
          ],
          "name": "stdout"
        }
      ]
    },
    {
      "cell_type": "code",
      "metadata": {
        "id": "sQx_ozeanBid",
        "colab_type": "code",
        "colab": {},
        "outputId": "50f03c6c-a07c-47c5-e2c0-0a4eb611f0ac"
      },
      "source": [
        "sum_data.index"
      ],
      "execution_count": null,
      "outputs": [
        {
          "output_type": "execute_result",
          "data": {
            "text/plain": [
              "CategoricalIndex(['Colo Colo', 'Rangers', 'Universidad de Chile'], categories=['Colo Colo', 'Rangers', 'Universidad de Chile'], ordered=False, name='team', dtype='category')"
            ]
          },
          "metadata": {
            "tags": []
          },
          "execution_count": 115
        }
      ]
    },
    {
      "cell_type": "markdown",
      "metadata": {
        "id": "5IMSk1wNnBih",
        "colab_type": "text"
      },
      "source": [
        "# Analisis Exploratorio de Casos COVID \n",
        "\n",
        "En este laboratorio realizaremos un analisis exploratorio de casos confirmados de COVID-19. Para ello, accederemos a las API del Centro Europeo para la Prevencion y Control de Enfermedades (https://www.ecdc.europa.eu/en/publications-data/download-todays-data-geographic-distribution-covid-19-cases-worldwide)"
      ]
    },
    {
      "cell_type": "code",
      "metadata": {
        "id": "pTxDhRhunBii",
        "colab_type": "code",
        "colab": {}
      },
      "source": [
        "import requests \n",
        "import json\n",
        "\n",
        "response=requests.get('https://opendata.ecdc.europa.eu/covid19/casedistribution/json/')\n",
        "\n",
        "if response.status_code==200:\n",
        "    s=json.loads(response.text,encoding='utf-8',strict=False)\n",
        "    data=pd.DataFrame(s['records'])\n",
        "    data.to_csv('covid_data.csv')\n",
        "else:\n",
        "    data=pd.read_csv('covid_data.csv')"
      ],
      "execution_count": 2,
      "outputs": []
    },
    {
      "cell_type": "code",
      "metadata": {
        "id": "GkBIwVB6nBil",
        "colab_type": "code",
        "colab": {
          "base_uri": "https://localhost:8080/",
          "height": 230
        },
        "outputId": "61af885b-58b2-4aa2-8bb0-0a9af0f59747"
      },
      "source": [
        "data.iloc[0]"
      ],
      "execution_count": 3,
      "outputs": [
        {
          "output_type": "execute_result",
          "data": {
            "text/plain": [
              "dateRep                     02/07/2020\n",
              "day                                 02\n",
              "month                               07\n",
              "year                              2020\n",
              "cases                              319\n",
              "deaths                              28\n",
              "countriesAndTerritories    Afghanistan\n",
              "geoId                               AF\n",
              "countryterritoryCode               AFG\n",
              "popData2019                3.80418e+07\n",
              "continentExp                      Asia\n",
              "Name: 0, dtype: object"
            ]
          },
          "metadata": {
            "tags": []
          },
          "execution_count": 3
        }
      ]
    },
    {
      "cell_type": "code",
      "metadata": {
        "id": "c2OmKGZxnBip",
        "colab_type": "code",
        "colab": {
          "base_uri": "https://localhost:8080/",
          "height": 230
        },
        "outputId": "a6da27b3-e808-4c7e-db14-90afbb7c11cf"
      },
      "source": [
        "data.dtypes"
      ],
      "execution_count": 4,
      "outputs": [
        {
          "output_type": "execute_result",
          "data": {
            "text/plain": [
              "dateRep                     object\n",
              "day                         object\n",
              "month                       object\n",
              "year                        object\n",
              "cases                        int64\n",
              "deaths                       int64\n",
              "countriesAndTerritories     object\n",
              "geoId                       object\n",
              "countryterritoryCode        object\n",
              "popData2019                float64\n",
              "continentExp                object\n",
              "dtype: object"
            ]
          },
          "metadata": {
            "tags": []
          },
          "execution_count": 4
        }
      ]
    },
    {
      "cell_type": "code",
      "metadata": {
        "id": "FZRugrk2nBit",
        "colab_type": "code",
        "colab": {}
      },
      "source": [
        "data['dateRep']=pd.to_datetime(data['dateRep'],infer_datetime_format=True)"
      ],
      "execution_count": 5,
      "outputs": []
    },
    {
      "cell_type": "code",
      "metadata": {
        "id": "hcxixQHYnBix",
        "colab_type": "code",
        "colab": {
          "base_uri": "https://localhost:8080/",
          "height": 230
        },
        "outputId": "5420b29f-e223-4709-fd7e-8a603bc30748"
      },
      "source": [
        "data.dtypes"
      ],
      "execution_count": 6,
      "outputs": [
        {
          "output_type": "execute_result",
          "data": {
            "text/plain": [
              "dateRep                    datetime64[ns]\n",
              "day                                object\n",
              "month                              object\n",
              "year                               object\n",
              "cases                               int64\n",
              "deaths                              int64\n",
              "countriesAndTerritories            object\n",
              "geoId                              object\n",
              "countryterritoryCode               object\n",
              "popData2019                       float64\n",
              "continentExp                       object\n",
              "dtype: object"
            ]
          },
          "metadata": {
            "tags": []
          },
          "execution_count": 6
        }
      ]
    },
    {
      "cell_type": "code",
      "metadata": {
        "id": "9_IXrNEonBi1",
        "colab_type": "code",
        "colab": {}
      },
      "source": [
        "data['countriesAndTerritories'] = data['countriesAndTerritories'].astype('category')\n",
        "data['geoId'] = data['geoId'].astype('category')\n",
        "data['countryterritoryCode'] = data['countryterritoryCode'].astype('category')\n",
        "data['continentExp'] = data['continentExp'].astype('category')\n",
        "data.drop(['day','month','year'],axis=1,inplace=True)"
      ],
      "execution_count": 7,
      "outputs": []
    },
    {
      "cell_type": "code",
      "metadata": {
        "id": "8Iq5LVGsnBi4",
        "colab_type": "code",
        "colab": {
          "base_uri": "https://localhost:8080/",
          "height": 176
        },
        "outputId": "4503fb2d-00c7-4663-fb71-5c43bc468070"
      },
      "source": [
        "data.dtypes"
      ],
      "execution_count": 8,
      "outputs": [
        {
          "output_type": "execute_result",
          "data": {
            "text/plain": [
              "dateRep                    datetime64[ns]\n",
              "cases                               int64\n",
              "deaths                              int64\n",
              "countriesAndTerritories          category\n",
              "geoId                            category\n",
              "countryterritoryCode             category\n",
              "popData2019                       float64\n",
              "continentExp                     category\n",
              "dtype: object"
            ]
          },
          "metadata": {
            "tags": []
          },
          "execution_count": 8
        }
      ]
    },
    {
      "cell_type": "code",
      "metadata": {
        "id": "z6YlSaAQnBi7",
        "colab_type": "code",
        "colab": {
          "base_uri": "https://localhost:8080/",
          "height": 52
        },
        "outputId": "5f102457-3742-41b1-b4f8-c5062c7f4bd2"
      },
      "source": [
        "data['continentExp'].unique()"
      ],
      "execution_count": 9,
      "outputs": [
        {
          "output_type": "execute_result",
          "data": {
            "text/plain": [
              "[Asia, Europe, Africa, America, Oceania, Other]\n",
              "Categories (6, object): [Asia, Europe, Africa, America, Oceania, Other]"
            ]
          },
          "metadata": {
            "tags": []
          },
          "execution_count": 9
        }
      ]
    },
    {
      "cell_type": "code",
      "metadata": {
        "id": "O0lZLPZTnBi-",
        "colab_type": "code",
        "colab": {}
      },
      "source": [
        "latin_america=data[data['continentExp']=='America']"
      ],
      "execution_count": 10,
      "outputs": []
    },
    {
      "cell_type": "code",
      "metadata": {
        "id": "fmb5inWlnBjB",
        "colab_type": "code",
        "colab": {
          "base_uri": "https://localhost:8080/",
          "height": 203
        },
        "outputId": "15b6d304-4329-496d-91dc-1ed2c37de1af"
      },
      "source": [
        "latin_america.head()"
      ],
      "execution_count": 11,
      "outputs": [
        {
          "output_type": "execute_result",
          "data": {
            "text/html": [
              "<div>\n",
              "<style scoped>\n",
              "    .dataframe tbody tr th:only-of-type {\n",
              "        vertical-align: middle;\n",
              "    }\n",
              "\n",
              "    .dataframe tbody tr th {\n",
              "        vertical-align: top;\n",
              "    }\n",
              "\n",
              "    .dataframe thead th {\n",
              "        text-align: right;\n",
              "    }\n",
              "</style>\n",
              "<table border=\"1\" class=\"dataframe\">\n",
              "  <thead>\n",
              "    <tr style=\"text-align: right;\">\n",
              "      <th></th>\n",
              "      <th>dateRep</th>\n",
              "      <th>cases</th>\n",
              "      <th>deaths</th>\n",
              "      <th>countriesAndTerritories</th>\n",
              "      <th>geoId</th>\n",
              "      <th>countryterritoryCode</th>\n",
              "      <th>popData2019</th>\n",
              "      <th>continentExp</th>\n",
              "    </tr>\n",
              "  </thead>\n",
              "  <tbody>\n",
              "    <tr>\n",
              "      <th>685</th>\n",
              "      <td>2020-02-07</td>\n",
              "      <td>0</td>\n",
              "      <td>0</td>\n",
              "      <td>Anguilla</td>\n",
              "      <td>AI</td>\n",
              "      <td>AIA</td>\n",
              "      <td>14872.0</td>\n",
              "      <td>America</td>\n",
              "    </tr>\n",
              "    <tr>\n",
              "      <th>686</th>\n",
              "      <td>2020-01-07</td>\n",
              "      <td>0</td>\n",
              "      <td>0</td>\n",
              "      <td>Anguilla</td>\n",
              "      <td>AI</td>\n",
              "      <td>AIA</td>\n",
              "      <td>14872.0</td>\n",
              "      <td>America</td>\n",
              "    </tr>\n",
              "    <tr>\n",
              "      <th>687</th>\n",
              "      <td>2020-06-30</td>\n",
              "      <td>0</td>\n",
              "      <td>0</td>\n",
              "      <td>Anguilla</td>\n",
              "      <td>AI</td>\n",
              "      <td>AIA</td>\n",
              "      <td>14872.0</td>\n",
              "      <td>America</td>\n",
              "    </tr>\n",
              "    <tr>\n",
              "      <th>688</th>\n",
              "      <td>2020-06-29</td>\n",
              "      <td>0</td>\n",
              "      <td>0</td>\n",
              "      <td>Anguilla</td>\n",
              "      <td>AI</td>\n",
              "      <td>AIA</td>\n",
              "      <td>14872.0</td>\n",
              "      <td>America</td>\n",
              "    </tr>\n",
              "    <tr>\n",
              "      <th>689</th>\n",
              "      <td>2020-06-28</td>\n",
              "      <td>0</td>\n",
              "      <td>0</td>\n",
              "      <td>Anguilla</td>\n",
              "      <td>AI</td>\n",
              "      <td>AIA</td>\n",
              "      <td>14872.0</td>\n",
              "      <td>America</td>\n",
              "    </tr>\n",
              "  </tbody>\n",
              "</table>\n",
              "</div>"
            ],
            "text/plain": [
              "       dateRep  cases  deaths  ... countryterritoryCode popData2019 continentExp\n",
              "685 2020-02-07      0       0  ...                  AIA     14872.0      America\n",
              "686 2020-01-07      0       0  ...                  AIA     14872.0      America\n",
              "687 2020-06-30      0       0  ...                  AIA     14872.0      America\n",
              "688 2020-06-29      0       0  ...                  AIA     14872.0      America\n",
              "689 2020-06-28      0       0  ...                  AIA     14872.0      America\n",
              "\n",
              "[5 rows x 8 columns]"
            ]
          },
          "metadata": {
            "tags": []
          },
          "execution_count": 11
        }
      ]
    },
    {
      "cell_type": "code",
      "metadata": {
        "id": "rfnKU1IcnBjF",
        "colab_type": "code",
        "colab": {
          "base_uri": "https://localhost:8080/",
          "height": 70
        },
        "outputId": "872ea4b5-8c90-4b20-fdae-64e5837e78d0"
      },
      "source": [
        "latin_america['countryterritoryCode'].unique()"
      ],
      "execution_count": 12,
      "outputs": [
        {
          "output_type": "execute_result",
          "data": {
            "text/plain": [
              "[AIA, ATG, ARG, ABW, BHS, ..., TCA, USA, VIR, URY, VEN]\n",
              "Length: 49\n",
              "Categories (49, object): [AIA, ATG, ARG, ABW, ..., USA, VIR, URY, VEN]"
            ]
          },
          "metadata": {
            "tags": []
          },
          "execution_count": 12
        }
      ]
    },
    {
      "cell_type": "code",
      "metadata": {
        "id": "c3PJ_8AMnBjJ",
        "colab_type": "code",
        "colab": {}
      },
      "source": [
        "sum_america=latin_america[['countriesAndTerritories','cases','popData2019']].groupby('countriesAndTerritories').sum()"
      ],
      "execution_count": 35,
      "outputs": []
    },
    {
      "cell_type": "code",
      "metadata": {
        "id": "S_BXiYOPnBjN",
        "colab_type": "code",
        "colab": {}
      },
      "source": [
        "sum_america.sort_values(by=['cases'],inplace=True,ascending=False)"
      ],
      "execution_count": 36,
      "outputs": []
    },
    {
      "cell_type": "code",
      "metadata": {
        "id": "b53aqwxPnBjP",
        "colab_type": "code",
        "colab": {
          "base_uri": "https://localhost:8080/",
          "height": 388
        },
        "outputId": "6636d2ce-a84b-4734-b540-192eee897985"
      },
      "source": [
        "sum_america.head(10)"
      ],
      "execution_count": 37,
      "outputs": [
        {
          "output_type": "execute_result",
          "data": {
            "text/html": [
              "<div>\n",
              "<style scoped>\n",
              "    .dataframe tbody tr th:only-of-type {\n",
              "        vertical-align: middle;\n",
              "    }\n",
              "\n",
              "    .dataframe tbody tr th {\n",
              "        vertical-align: top;\n",
              "    }\n",
              "\n",
              "    .dataframe thead th {\n",
              "        text-align: right;\n",
              "    }\n",
              "</style>\n",
              "<table border=\"1\" class=\"dataframe\">\n",
              "  <thead>\n",
              "    <tr style=\"text-align: right;\">\n",
              "      <th></th>\n",
              "      <th>cases</th>\n",
              "      <th>popData2019</th>\n",
              "    </tr>\n",
              "    <tr>\n",
              "      <th>countriesAndTerritories</th>\n",
              "      <th></th>\n",
              "      <th></th>\n",
              "    </tr>\n",
              "  </thead>\n",
              "  <tbody>\n",
              "    <tr>\n",
              "      <th>United_States_of_America</th>\n",
              "      <td>2686480</td>\n",
              "      <td>6.087701e+10</td>\n",
              "    </tr>\n",
              "    <tr>\n",
              "      <th>Brazil</th>\n",
              "      <td>1448753</td>\n",
              "      <td>3.904416e+10</td>\n",
              "    </tr>\n",
              "    <tr>\n",
              "      <th>Peru</th>\n",
              "      <td>288477</td>\n",
              "      <td>3.803724e+09</td>\n",
              "    </tr>\n",
              "    <tr>\n",
              "      <th>Chile</th>\n",
              "      <td>282043</td>\n",
              "      <td>2.274244e+09</td>\n",
              "    </tr>\n",
              "    <tr>\n",
              "      <th>Mexico</th>\n",
              "      <td>231770</td>\n",
              "      <td>2.258087e+10</td>\n",
              "    </tr>\n",
              "    <tr>\n",
              "      <th>Canada</th>\n",
              "      <td>104193</td>\n",
              "      <td>6.921042e+09</td>\n",
              "    </tr>\n",
              "    <tr>\n",
              "      <th>Colombia</th>\n",
              "      <td>102009</td>\n",
              "      <td>5.738697e+09</td>\n",
              "    </tr>\n",
              "    <tr>\n",
              "      <th>Argentina</th>\n",
              "      <td>67184</td>\n",
              "      <td>5.284120e+09</td>\n",
              "    </tr>\n",
              "    <tr>\n",
              "      <th>Ecuador</th>\n",
              "      <td>58257</td>\n",
              "      <td>3.127258e+09</td>\n",
              "    </tr>\n",
              "    <tr>\n",
              "      <th>Panama</th>\n",
              "      <td>34463</td>\n",
              "      <td>4.883406e+08</td>\n",
              "    </tr>\n",
              "  </tbody>\n",
              "</table>\n",
              "</div>"
            ],
            "text/plain": [
              "                            cases   popData2019\n",
              "countriesAndTerritories                        \n",
              "United_States_of_America  2686480  6.087701e+10\n",
              "Brazil                    1448753  3.904416e+10\n",
              "Peru                       288477  3.803724e+09\n",
              "Chile                      282043  2.274244e+09\n",
              "Mexico                     231770  2.258087e+10\n",
              "Canada                     104193  6.921042e+09\n",
              "Colombia                   102009  5.738697e+09\n",
              "Argentina                   67184  5.284120e+09\n",
              "Ecuador                     58257  3.127258e+09\n",
              "Panama                      34463  4.883406e+08"
            ]
          },
          "metadata": {
            "tags": []
          },
          "execution_count": 37
        }
      ]
    },
    {
      "cell_type": "code",
      "metadata": {
        "id": "qjuuLzLpnBjS",
        "colab_type": "code",
        "colab": {
          "base_uri": "https://localhost:8080/",
          "height": 478
        },
        "outputId": "af443f03-718c-40f8-e0ec-2a60edda769d"
      },
      "source": [
        "import matplotlib.pyplot as plt\n",
        "plt.style.use('fivethirtyeight')\n",
        "fig, ax = plt.subplots(tight_layout=True,figsize=(14,7))\n",
        "\n",
        "scale = 'log'\n",
        "\n",
        "sum_america['cases'].head(30).plot(ax=ax, kind=\"bar\", color='purple')\n",
        "\n",
        "ax.set_yscale(scale)\n",
        "\n",
        "ax.set_title(f'COVID-19 en America', fontsize='large')\n",
        "ax.set_xlabel(f'Pais', fontsize='medium')\n",
        "ax.set_ylabel(f'Casos Confirmados ', fontsize='medium')\n",
        "\n",
        "plt.show()"
      ],
      "execution_count": 39,
      "outputs": [
        {
          "output_type": "display_data",
          "data": {
            "image/png": "[encoded data removed]",
            "text/plain": [
              "<Figure size 1008x504 with 1 Axes>"
            ]
          },
          "metadata": {
            "tags": []
          }
        }
      ]
    },
    {
      "cell_type": "code",
      "metadata": {
        "id": "S-t4QoIFnBjV",
        "colab_type": "code",
        "colab": {}
      },
      "source": [
        "Q1 = sum_america['cases'].between(sum_america['cases'].quantile(.90), sum_america['cases'].quantile(1.))"
      ],
      "execution_count": 40,
      "outputs": []
    },
    {
      "cell_type": "code",
      "metadata": {
        "id": "9XSvgA9EotX_",
        "colab_type": "code",
        "colab": {}
      },
      "source": [
        "pos_rate=sum_america[Q1]['cases']/sum_america[Q1]['popData2019']"
      ],
      "execution_count": 46,
      "outputs": []
    },
    {
      "cell_type": "code",
      "metadata": {
        "id": "uKxqd6slqd4u",
        "colab_type": "code",
        "colab": {
          "base_uri": "https://localhost:8080/",
          "height": 478
        },
        "outputId": "6e86f012-907f-4dff-c39a-10629a48174e"
      },
      "source": [
        "fig, ax = plt.subplots(tight_layout=True,figsize=(14,7))\n",
        "pos_rate.plot(ax=ax, kind=\"bar\", color='purple')\n",
        "plt.show()"
      ],
      "execution_count": 51,
      "outputs": [
        {
          "output_type": "display_data",
          "data": {
            "image/png": "[encoded data removed]",
            "text/plain": [
              "<Figure size 1008x504 with 1 Axes>"
            ]
          },
          "metadata": {
            "tags": []
          }
        }
      ]
    }
  ]
}